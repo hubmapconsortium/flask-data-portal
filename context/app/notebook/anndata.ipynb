{
 "cells": [
  {
   "cell_type": "markdown",
   "metadata": {},
   "source": [
    "## Anndata"
   ]
  },
  {
   "cell_type": "code",
   "execution_count": null,
   "metadata": {},
   "outputs": [],
   "source": [
    "# These are just the zarr files from the list above:\n",
    "\n",
    "uuids_to_zarr_files = $uuids_to_zarr_files"
   ]
  },
  {
   "cell_type": "code",
   "execution_count": null,
   "metadata": {},
   "outputs": [],
   "source": [
    "# We can add the Assets API base URL to get full URLs:\n",
    "\n",
    "uuids_to_zarr_urls = {\n",
    "    uuid: [\n",
    "        f'https://assets.hubmapconsortium.org/{uuid}/{file}'\n",
    "        for file in files\n",
    "    ] for uuid, files in uuids_to_zarr_files.items()\n",
    "}"
   ]
  }
 ],
 "metadata": {
  "language_info": {
   "name": "python"
  },
  "orig_nbformat": 4
 },
 "nbformat": 4,
 "nbformat_minor": 2
}
