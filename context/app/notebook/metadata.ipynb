{
 "cells": [
  {
   "cell_type": "markdown",
   "id": "8d21a477",
   "metadata": {},
   "source": [
    "This notebook demonstrates how to work with HuBMAP APIs for datasets:"
   ]
  },
  {
   "cell_type": "code",
   "execution_count": null,
   "id": "07052a83",
   "metadata": {},
   "outputs": [],
   "source": [
    "!pip install requests pandas"
   ]
  },
  {
   "cell_type": "code",
   "execution_count": null,
   "id": "045dfedd",
   "metadata": {},
   "outputs": [],
   "source": [
    "import json\n",
    "from csv import DictReader, excel_tab\n",
    "from io import StringIO\n",
    "import requests\n",
    "import pandas as pd\n",
    "\n",
    "# These are the UUIDS of the search results when this notebook was created:\n",
    "\n",
    "uuids = $uuids"
   ]
  },
  {
   "cell_type": "code",
   "execution_count": null,
   "id": "c6d7f55f",
   "metadata": {},
   "outputs": [],
   "source": [
    "# Fetch the metadata, and read it into a list of dicts:\n",
    "\n",
    "response = requests.post(\n",
    "    \"$url_base/metadata/v0/$entity_type.tsv\", json={\"uuids\": uuids}\n",
    ")\n",
    "metadata = list(DictReader(StringIO(response.text), dialect=excel_tab))"
   ]
  },
  {
   "cell_type": "code",
   "execution_count": null,
   "id": "cb48d226",
   "metadata": {},
   "outputs": [],
   "source": [
    "# The number of metadata dicts will correspond to the number of UUIDs requested:\n",
    "\n",
    "len(metadata)"
   ]
  },
  {
   "cell_type": "code",
   "execution_count": null,
   "id": "6867ce04",
   "metadata": {},
   "outputs": [],
   "source": [
    "# Load it into a DataFrame and see the field definitions:\n",
    "\n",
    "pd.DataFrame(metadata[:1]).T.head()"
   ]
  },
  {
   "cell_type": "code",
   "execution_count": null,
   "id": "3ec46f33",
   "metadata": {},
   "outputs": [],
   "source": [
    "# Or review the data itself:\n",
    "\n",
    "pd.DataFrame(metadata[1:]).head()"
   ]
  }
 ],
 "metadata": {
  "language_info": {
   "name": "python"
  }
 },
 "nbformat": 4,
 "nbformat_minor": 5
}
