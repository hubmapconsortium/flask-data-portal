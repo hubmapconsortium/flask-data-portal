{
 "cells": [
  {
   "cell_type": "code",
   "execution_count": null,
   "id": "02e98abc",
   "metadata": {},
   "outputs": [],
   "source": [
    "# The Search API can give us information about the files in processed datasets:\n",
    "\n",
    "search_api = \"$search_url\""
   ]
  },
  {
   "cell_type": "code",
   "execution_count": null,
   "id": "fbf339a5",
   "metadata": {},
   "outputs": [],
   "source": [
    "# The Search API supports Elasticsearch queries:\n",
    "\n",
    "import json\n",
    "\n",
    "hits = json.loads(\n",
    "    requests.post(\n",
    "        search_api,\n",
    "        json={\n",
    "            \"size\": 10000,  # To make sure the list is not truncted, set this high.\n",
    "            \"query\": {\"ids\": {\"values\": uuids}},\n",
    "            \"_source\": [\"files\"],\n",
    "        },  # Documents are large, so only request the fields we need.\n",
    "    ).text\n",
    ")[\"hits\"][\"hits\"]"
   ]
  },
  {
   "cell_type": "code",
   "execution_count": null,
   "id": "3265aa48",
   "metadata": {},
   "outputs": [],
   "source": [
    "# Only processed datasets have file information.\n",
    "\n",
    "files = {\n",
    "    hit[\"_id\"]: {\n",
    "        file[\"rel_path\"]: file[\"description\"]\n",
    "        for file in hit[\"_source\"].get(\"files\", [])\n",
    "        if file\n",
    "    }\n",
    "    for hit in hits\n",
    "}\n",
    "\n",
    "pd.DataFrame(files).head()"
   ]
  }
 ],
 "metadata": {
  "language_info": {
   "name": "python"
  }
 },
 "nbformat": 4,
 "nbformat_minor": 5
}
